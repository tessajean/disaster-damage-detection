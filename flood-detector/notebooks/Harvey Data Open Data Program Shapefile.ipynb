{
 "cells": [
  {
   "cell_type": "code",
   "execution_count": 28,
   "metadata": {},
   "outputs": [
    {
     "ename": "ModuleNotFoundError",
     "evalue": "No module named 'palettable'",
     "output_type": "error",
     "traceback": [
      "\u001b[0;31m---------------------------------------------------------------------------\u001b[0m",
      "\u001b[0;31mModuleNotFoundError\u001b[0m                       Traceback (most recent call last)",
      "\u001b[0;32m<ipython-input-28-06accf570c61>\u001b[0m in \u001b[0;36m<module>\u001b[0;34m()\u001b[0m\n\u001b[1;32m      1\u001b[0m \u001b[0;32mimport\u001b[0m \u001b[0mpysal\u001b[0m \u001b[0;32mas\u001b[0m \u001b[0mps\u001b[0m\u001b[0;34m\u001b[0m\u001b[0m\n\u001b[1;32m      2\u001b[0m \u001b[0;32mimport\u001b[0m \u001b[0mrandom\u001b[0m \u001b[0;32mas\u001b[0m \u001b[0mrdm\u001b[0m\u001b[0;34m\u001b[0m\u001b[0m\n\u001b[0;32m----> 3\u001b[0;31m \u001b[0;32mfrom\u001b[0m \u001b[0mpysal\u001b[0m\u001b[0;34m.\u001b[0m\u001b[0mcontrib\u001b[0m\u001b[0;34m.\u001b[0m\u001b[0mviz\u001b[0m \u001b[0;32mimport\u001b[0m \u001b[0mmapping\u001b[0m \u001b[0;32mas\u001b[0m \u001b[0mmaps\u001b[0m\u001b[0;34m\u001b[0m\u001b[0m\n\u001b[0m",
      "\u001b[0;32m~/anaconda3/lib/python3.6/site-packages/pysal/contrib/viz/mapping.py\u001b[0m in \u001b[0;36m<module>\u001b[0;34m()\u001b[0m\n\u001b[1;32m     25\u001b[0m \u001b[0;32mfrom\u001b[0m \u001b[0mmatplotlib\u001b[0m\u001b[0;34m.\u001b[0m\u001b[0mcollections\u001b[0m \u001b[0;32mimport\u001b[0m \u001b[0mLineCollection\u001b[0m\u001b[0;34m,\u001b[0m \u001b[0mPathCollection\u001b[0m\u001b[0;34m,\u001b[0m \u001b[0mPolyCollection\u001b[0m\u001b[0;34m,\u001b[0m \u001b[0mPathCollection\u001b[0m\u001b[0;34m,\u001b[0m \u001b[0mPatchCollection\u001b[0m\u001b[0;34m,\u001b[0m \u001b[0mCircleCollection\u001b[0m\u001b[0;34m\u001b[0m\u001b[0m\n\u001b[1;32m     26\u001b[0m \u001b[0;34m\u001b[0m\u001b[0m\n\u001b[0;32m---> 27\u001b[0;31m \u001b[0;32mfrom\u001b[0m \u001b[0;34m.\u001b[0m\u001b[0mcolor\u001b[0m \u001b[0;32mimport\u001b[0m \u001b[0mget_color_map\u001b[0m\u001b[0;34m\u001b[0m\u001b[0m\n\u001b[0m\u001b[1;32m     28\u001b[0m \u001b[0;34m\u001b[0m\u001b[0m\n\u001b[1;32m     29\u001b[0m \u001b[0;32mtry\u001b[0m\u001b[0;34m:\u001b[0m\u001b[0;34m\u001b[0m\u001b[0m\n",
      "\u001b[0;32m~/anaconda3/lib/python3.6/site-packages/pysal/contrib/viz/color.py\u001b[0m in \u001b[0;36m<module>\u001b[0;34m()\u001b[0m\n\u001b[1;32m      3\u001b[0m \"\"\"\n\u001b[1;32m      4\u001b[0m \u001b[0;34m\u001b[0m\u001b[0m\n\u001b[0;32m----> 5\u001b[0;31m \u001b[0;32mimport\u001b[0m \u001b[0mpalettable\u001b[0m \u001b[0;32mas\u001b[0m \u001b[0mpltt\u001b[0m\u001b[0;34m\u001b[0m\u001b[0m\n\u001b[0m\u001b[1;32m      6\u001b[0m \u001b[0;34m\u001b[0m\u001b[0m\n\u001b[1;32m      7\u001b[0m \u001b[0;34m\u001b[0m\u001b[0m\n",
      "\u001b[0;31mModuleNotFoundError\u001b[0m: No module named 'palettable'"
     ]
    }
   ],
   "source": [
    "import pysal as ps\n",
    "import random as rdm\n",
    "from pysal.contrib.viz import mapping as maps"
   ]
  },
  {
   "cell_type": "code",
   "execution_count": 38,
   "metadata": {},
   "outputs": [],
   "source": [
    "inputfile = \"/Users/tessaschneider/Desktop/20170831_130614_Flood_Analysis_shapefile/20170831_130614_Flood_Analysis.shp\""
   ]
  },
  {
   "cell_type": "code",
   "execution_count": 42,
   "metadata": {},
   "outputs": [],
   "source": [
    "flood_data = ps.pdio.read_files(inputfile)"
   ]
  },
  {
   "cell_type": "code",
   "execution_count": 43,
   "metadata": {},
   "outputs": [
    {
     "name": "stdout",
     "output_type": "stream",
     "text": [
      "           ID   Latitude  Longitude   Area_KM  \\\n",
      "0          17  30.436438 -95.527609  0.001094   \n",
      "1          26  30.435607 -95.477129  0.002031   \n",
      "2          43  30.432520 -95.459499  0.001602   \n",
      "3          54  30.430833 -95.453894  0.002227   \n",
      "4          56  30.429961 -95.453775  0.001094   \n",
      "5          62  30.429711 -95.435774  0.001055   \n",
      "6          64  30.428822 -95.471528  0.001250   \n",
      "7          69  30.428089 -95.475887  0.001367   \n",
      "8          70  30.428211 -95.464216  0.001602   \n",
      "9          76  30.428049 -95.453606  0.001211   \n",
      "10         79  30.427920 -95.415145  0.001016   \n",
      "11         99  30.425780 -95.419518  0.001406   \n",
      "12        113  30.423858 -95.444264  0.002187   \n",
      "13        122  30.423481 -95.414373  0.001094   \n",
      "14        127  30.422031 -95.480611  0.001133   \n",
      "15        143  30.421495 -95.443724  0.001641   \n",
      "16        154  30.421657 -95.404048  0.001602   \n",
      "17        155  30.420729 -95.438468  0.001523   \n",
      "18        164  30.420583 -95.411216  0.001016   \n",
      "19        171  30.419609 -95.443921  0.001133   \n",
      "20        200  30.417404 -95.491859  0.001055   \n",
      "21        202  30.418795 -95.402732  0.001094   \n",
      "22        211  30.418017 -95.411365  0.001641   \n",
      "23        219  30.416882 -95.425814  0.001094   \n",
      "24        223  30.415706 -95.467488  0.001367   \n",
      "25        226  30.417098 -95.393523  0.001836   \n",
      "26        229  30.417260 -95.364614  0.001094   \n",
      "27        238  30.416420 -95.383597  0.001250   \n",
      "28        246  30.413386 -95.520710  0.001016   \n",
      "29        255  30.415772 -95.363276  0.002109   \n",
      "...       ...        ...        ...       ...   \n",
      "44418  277087  29.010489 -95.284597  0.001484   \n",
      "44419  277101  29.011799 -95.215152  0.003164   \n",
      "44420  277160  29.010944 -95.248574  0.001914   \n",
      "44421  277219  29.010207 -95.278283  0.002695   \n",
      "44422  277259  29.010747 -95.280230  0.034297   \n",
      "44423  277260  29.010642 -95.237713  0.003477   \n",
      "44424  277272  29.010046 -95.271694  0.001992   \n",
      "44425  277319  29.009857 -95.262437  0.002109   \n",
      "44426  277379  29.009782 -95.244551  0.001055   \n",
      "44427  277401  29.009641 -95.283116  0.022539   \n",
      "44428  277403  29.010182 -95.217447  0.001445   \n",
      "44429  277418  29.010040 -95.270981  0.010352   \n",
      "44430  277488  29.009110 -95.262802  0.005938   \n",
      "44431  277682  29.008432 -95.248970  0.002695   \n",
      "44432  277836  29.007037 -95.272040  0.001094   \n",
      "44433  277932  29.007079 -95.273665  0.015312   \n",
      "44434  277980  29.006876 -95.240345  0.001133   \n",
      "44435  277996  29.007249 -95.244471  0.007109   \n",
      "44436  277997  29.006865 -95.243154  0.003437   \n",
      "44437  278102  29.008726 -95.268118  0.253867   \n",
      "44438  278150  29.005759 -95.268538  0.001914   \n",
      "44439  278165  29.005536 -95.265705  0.002773   \n",
      "44440  278279  29.005519 -95.242598  0.003359   \n",
      "44441  278361  29.005270 -95.241949  0.002969   \n",
      "44442  278948  29.002453 -95.226977  0.001836   \n",
      "44443  279053  29.001774 -95.232142  0.001406   \n",
      "44444  279417  28.999930 -95.246736  0.002891   \n",
      "44445  279472  28.999521 -95.244487  0.001094   \n",
      "44446  279509  29.000450 -95.231617  0.029258   \n",
      "44447  279738  28.998548 -95.226702  0.003125   \n",
      "\n",
      "                                                 Comment  \\\n",
      "0      Flood Extraction: derived from RADARSAT-2 new ...   \n",
      "1      Flood Extraction: derived from RADARSAT-2 new ...   \n",
      "2      Flood Extraction: derived from RADARSAT-2 new ...   \n",
      "3      Flood Extraction: derived from RADARSAT-2 new ...   \n",
      "4      Flood Extraction: derived from RADARSAT-2 new ...   \n",
      "5      Flood Extraction: derived from RADARSAT-2 new ...   \n",
      "6      Flood Extraction: derived from RADARSAT-2 new ...   \n",
      "7      Flood Extraction: derived from RADARSAT-2 new ...   \n",
      "8      Flood Extraction: derived from RADARSAT-2 new ...   \n",
      "9      Flood Extraction: derived from RADARSAT-2 new ...   \n",
      "10     Flood Extraction: derived from RADARSAT-2 new ...   \n",
      "11     Flood Extraction: derived from RADARSAT-2 new ...   \n",
      "12     Flood Extraction: derived from RADARSAT-2 new ...   \n",
      "13     Flood Extraction: derived from RADARSAT-2 new ...   \n",
      "14     Flood Extraction: derived from RADARSAT-2 new ...   \n",
      "15     Flood Extraction: derived from RADARSAT-2 new ...   \n",
      "16     Flood Extraction: derived from RADARSAT-2 new ...   \n",
      "17     Flood Extraction: derived from RADARSAT-2 new ...   \n",
      "18     Flood Extraction: derived from RADARSAT-2 new ...   \n",
      "19     Flood Extraction: derived from RADARSAT-2 new ...   \n",
      "20     Flood Extraction: derived from RADARSAT-2 new ...   \n",
      "21     Flood Extraction: derived from RADARSAT-2 new ...   \n",
      "22     Flood Extraction: derived from RADARSAT-2 new ...   \n",
      "23     Flood Extraction: derived from RADARSAT-2 new ...   \n",
      "24     Flood Extraction: derived from RADARSAT-2 new ...   \n",
      "25     Flood Extraction: derived from RADARSAT-2 new ...   \n",
      "26     Flood Extraction: derived from RADARSAT-2 new ...   \n",
      "27     Flood Extraction: derived from RADARSAT-2 new ...   \n",
      "28     Flood Extraction: derived from RADARSAT-2 new ...   \n",
      "29     Flood Extraction: derived from RADARSAT-2 new ...   \n",
      "...                                                  ...   \n",
      "44418  Flood Extraction: derived from RADARSAT-2 new ...   \n",
      "44419  Flood Extraction: derived from RADARSAT-2 new ...   \n",
      "44420  Flood Extraction: derived from RADARSAT-2 new ...   \n",
      "44421  Flood Extraction: derived from RADARSAT-2 new ...   \n",
      "44422  Flood Extraction: derived from RADARSAT-2 new ...   \n",
      "44423  Flood Extraction: derived from RADARSAT-2 new ...   \n",
      "44424  Flood Extraction: derived from RADARSAT-2 new ...   \n",
      "44425  Flood Extraction: derived from RADARSAT-2 new ...   \n",
      "44426  Flood Extraction: derived from RADARSAT-2 new ...   \n",
      "44427  Flood Extraction: derived from RADARSAT-2 new ...   \n",
      "44428  Flood Extraction: derived from RADARSAT-2 new ...   \n",
      "44429  Flood Extraction: derived from RADARSAT-2 new ...   \n",
      "44430  Flood Extraction: derived from RADARSAT-2 new ...   \n",
      "44431  Flood Extraction: derived from RADARSAT-2 new ...   \n",
      "44432  Flood Extraction: derived from RADARSAT-2 new ...   \n",
      "44433  Flood Extraction: derived from RADARSAT-2 new ...   \n",
      "44434  Flood Extraction: derived from RADARSAT-2 new ...   \n",
      "44435  Flood Extraction: derived from RADARSAT-2 new ...   \n",
      "44436  Flood Extraction: derived from RADARSAT-2 new ...   \n",
      "44437  Flood Extraction: derived from RADARSAT-2 new ...   \n",
      "44438  Flood Extraction: derived from RADARSAT-2 new ...   \n",
      "44439  Flood Extraction: derived from RADARSAT-2 new ...   \n",
      "44440  Flood Extraction: derived from RADARSAT-2 new ...   \n",
      "44441  Flood Extraction: derived from RADARSAT-2 new ...   \n",
      "44442  Flood Extraction: derived from RADARSAT-2 new ...   \n",
      "44443  Flood Extraction: derived from RADARSAT-2 new ...   \n",
      "44444  Flood Extraction: derived from RADARSAT-2 new ...   \n",
      "44445  Flood Extraction: derived from RADARSAT-2 new ...   \n",
      "44446  Flood Extraction: derived from RADARSAT-2 new ...   \n",
      "44447  Flood Extraction: derived from RADARSAT-2 new ...   \n",
      "\n",
      "                                               geometry  \n",
      "0      <pysal.cg.shapes.Polygon object at 0x1a32b00358>  \n",
      "1      <pysal.cg.shapes.Polygon object at 0x1a32b003c8>  \n",
      "2      <pysal.cg.shapes.Polygon object at 0x1a32b00470>  \n",
      "3      <pysal.cg.shapes.Polygon object at 0x1a32b004e0>  \n",
      "4      <pysal.cg.shapes.Polygon object at 0x1a32b00550>  \n",
      "5      <pysal.cg.shapes.Polygon object at 0x1a32b005c0>  \n",
      "6      <pysal.cg.shapes.Polygon object at 0x1a32b00630>  \n",
      "7      <pysal.cg.shapes.Polygon object at 0x1a32b006a0>  \n",
      "8      <pysal.cg.shapes.Polygon object at 0x1a32b00710>  \n",
      "9      <pysal.cg.shapes.Polygon object at 0x1a32b00780>  \n",
      "10     <pysal.cg.shapes.Polygon object at 0x1a32b007f0>  \n",
      "11     <pysal.cg.shapes.Polygon object at 0x1a32b00860>  \n",
      "12     <pysal.cg.shapes.Polygon object at 0x1a32b008d0>  \n",
      "13     <pysal.cg.shapes.Polygon object at 0x1a32b00940>  \n",
      "14     <pysal.cg.shapes.Polygon object at 0x1a32b009b0>  \n",
      "15     <pysal.cg.shapes.Polygon object at 0x1a32b00a20>  \n",
      "16     <pysal.cg.shapes.Polygon object at 0x1a32b00a90>  \n",
      "17     <pysal.cg.shapes.Polygon object at 0x1a32b00b00>  \n",
      "18     <pysal.cg.shapes.Polygon object at 0x1a32b00b70>  \n",
      "19     <pysal.cg.shapes.Polygon object at 0x1a32b00ba8>  \n",
      "20     <pysal.cg.shapes.Polygon object at 0x1a32b00c88>  \n",
      "21     <pysal.cg.shapes.Polygon object at 0x1a32b00cf8>  \n",
      "22     <pysal.cg.shapes.Polygon object at 0x1a32b00d68>  \n",
      "23     <pysal.cg.shapes.Polygon object at 0x1a32b00dd8>  \n",
      "24     <pysal.cg.shapes.Polygon object at 0x1a32b00e48>  \n",
      "25     <pysal.cg.shapes.Polygon object at 0x1a32b00eb8>  \n",
      "26     <pysal.cg.shapes.Polygon object at 0x1a32b00f28>  \n",
      "27     <pysal.cg.shapes.Polygon object at 0x1a32b00f98>  \n",
      "28     <pysal.cg.shapes.Polygon object at 0x1a32b00fd0>  \n",
      "29     <pysal.cg.shapes.Polygon object at 0x1a2454a0b8>  \n",
      "...                                                 ...  \n",
      "44418  <pysal.cg.shapes.Polygon object at 0x1adac05780>  \n",
      "44419  <pysal.cg.shapes.Polygon object at 0x1adac4acf8>  \n",
      "44420  <pysal.cg.shapes.Polygon object at 0x1adac4ad30>  \n",
      "44421  <pysal.cg.shapes.Polygon object at 0x1adac4ae10>  \n",
      "44422  <pysal.cg.shapes.Polygon object at 0x1adac4ae48>  \n",
      "44423  <pysal.cg.shapes.Polygon object at 0x1adac4aeb8>  \n",
      "44424  <pysal.cg.shapes.Polygon object at 0x1adac66208>  \n",
      "44425  <pysal.cg.shapes.Polygon object at 0x1adac66278>  \n",
      "44426  <pysal.cg.shapes.Polygon object at 0x1adac662e8>  \n",
      "44427  <pysal.cg.shapes.Polygon object at 0x1adac662b0>  \n",
      "44428  <pysal.cg.shapes.Polygon object at 0x1adac663c8>  \n",
      "44429  <pysal.cg.shapes.Polygon object at 0x1adac66320>  \n",
      "44430  <pysal.cg.shapes.Polygon object at 0x1adac66630>  \n",
      "44431  <pysal.cg.shapes.Polygon object at 0x1adac66780>  \n",
      "44432  <pysal.cg.shapes.Polygon object at 0x1adac667f0>  \n",
      "44433  <pysal.cg.shapes.Polygon object at 0x1adac66828>  \n",
      "44434  <pysal.cg.shapes.Polygon object at 0x1adac66898>  \n",
      "44435  <pysal.cg.shapes.Polygon object at 0x1adac66a90>  \n",
      "44436  <pysal.cg.shapes.Polygon object at 0x1adac66ac8>  \n",
      "44437  <pysal.cg.shapes.Polygon object at 0x1adac66d30>  \n",
      "44438  <pysal.cg.shapes.Polygon object at 0x1adac66b70>  \n",
      "44439  <pysal.cg.shapes.Polygon object at 0x1adac66c18>  \n",
      "44440  <pysal.cg.shapes.Polygon object at 0x1adac66c88>  \n",
      "44441  <pysal.cg.shapes.Polygon object at 0x1adac66cf8>  \n",
      "44442  <pysal.cg.shapes.Polygon object at 0x1adac66d68>  \n",
      "44443  <pysal.cg.shapes.Polygon object at 0x1adacbf3c8>  \n",
      "44444  <pysal.cg.shapes.Polygon object at 0x1adacbf438>  \n",
      "44445  <pysal.cg.shapes.Polygon object at 0x1adacbf4a8>  \n",
      "44446  <pysal.cg.shapes.Polygon object at 0x1adacbf518>  \n",
      "44447  <pysal.cg.shapes.Polygon object at 0x1adacbf550>  \n",
      "\n",
      "[44448 rows x 6 columns]\n"
     ]
    }
   ],
   "source": [
    "print(flood_data)"
   ]
  },
  {
   "cell_type": "code",
   "execution_count": 31,
   "metadata": {},
   "outputs": [],
   "source": [
    "import geopandas as gpd\n",
    "import shapely\n",
    "import matplotlib.pyplot as plt"
   ]
  },
  {
   "cell_type": "code",
   "execution_count": 67,
   "metadata": {},
   "outputs": [],
   "source": [
    "import pandas as pd\n",
    "import geopandas as gpd\n",
    "from shapely.geometry import Point, mapping, shape\n",
    "from imp import reload\n",
    "from numpy import mean\n",
    "from numpy.random import randint, choice\n",
    "import random\n",
    "import json\n",
    "import requests\n",
    "from datetime import timedelta\n",
    "import os\n",
    "from IPython.display import Image\n",
    "import matplotlib.pyplot as plt\n",
    "import matplotlib.lines as mlines\n",
    "from matplotlib.patches import Circle\n",
    "import numpy as np\n",
    "from multiprocessing.dummy import Pool as ThreadPool"
   ]
  },
  {
   "cell_type": "code",
   "execution_count": 68,
   "metadata": {},
   "outputs": [],
   "source": [
    "import click"
   ]
  },
  {
   "cell_type": "code",
   "execution_count": 80,
   "metadata": {},
   "outputs": [],
   "source": [
    "# @click.command()\n",
    "# @click.argument(\"/Users/tessaschneider/Desktop/20170831_130614_Flood_Analysis_shapefile/20170831_130614_Flood_Analysis.shp\")\n",
    "# @click.option(\"--id_col\", help=\"ID column\", type=click.STRING, default=\"id\")\n",
    "# @click.option(\"--lat_col\", help=\"latitude column\", type=click.STRING, default=\"latitude\")\n",
    "# @click.option(\"--lon_col\", help=\"longitude column\", type=click.STRING, default=\"longitude\")\n",
    "#def main(flood_data, id_col, lat_col, lon_col):\n",
    "flood_data = ps.pdio.read_files(inputfile)\n",
    "lon_col = 'Longitude'\n",
    "lat_col = 'Latitude'\n",
    "id_col = 'ID'\n",
    "flood_data['geometry'] = [Point(xy) for xy in zip(flood_data[[lon_col]].values, flood_data[[lat_col]].values)]\n",
    "flood_data = gpd.GeoDataFrame(flood_data)\n",
    "flood_data.crs = {'init' : 'epsg:4326'}\n",
    "locations = flood_data.dropna(subset=[id_col, lon_col, lat_col]).drop_duplicates(id_col)\n",
    "locations[[lon_col, lat_col]].to_csv(\"these_locations.csv\", index_label = id_col)"
   ]
  },
  {
   "cell_type": "code",
   "execution_count": 81,
   "metadata": {},
   "outputs": [],
   "source": [
    "    boxes = locations[[id_col, 'geometry']].copy()\n",
    "    #TODO: better understand buffer size\n",
    "    boxes.geometry = [g.buffer(0.005, cap_style=3) for g in boxes.geometry]"
   ]
  },
  {
   "cell_type": "code",
   "execution_count": null,
   "metadata": {},
   "outputs": [],
   "source": [
    "if __name__ == \"__main__\":\n",
    "    main()"
   ]
  },
  {
   "cell_type": "code",
   "execution_count": null,
   "metadata": {},
   "outputs": [],
   "source": []
  },
  {
   "cell_type": "code",
   "execution_count": null,
   "metadata": {},
   "outputs": [],
   "source": []
  },
  {
   "cell_type": "code",
   "execution_count": null,
   "metadata": {},
   "outputs": [],
   "source": []
  },
  {
   "cell_type": "code",
   "execution_count": 27,
   "metadata": {},
   "outputs": [
    {
     "ename": "TypeError",
     "evalue": "expected str, bytes or os.PathLike object, not DataFrame",
     "output_type": "error",
     "traceback": [
      "\u001b[0;31m---------------------------------------------------------------------------\u001b[0m",
      "\u001b[0;31mTypeError\u001b[0m                                 Traceback (most recent call last)",
      "\u001b[0;32m<ipython-input-27-b44843856225>\u001b[0m in \u001b[0;36m<module>\u001b[0;34m()\u001b[0m\n\u001b[0;32m----> 1\u001b[0;31m \u001b[0msome\u001b[0m \u001b[0;34m=\u001b[0m \u001b[0;34m[\u001b[0m\u001b[0mbool\u001b[0m\u001b[0;34m(\u001b[0m\u001b[0mrdm\u001b[0m\u001b[0;34m.\u001b[0m\u001b[0mgetrandbits\u001b[0m\u001b[0;34m(\u001b[0m\u001b[0;36m1\u001b[0m\u001b[0;34m)\u001b[0m\u001b[0;34m)\u001b[0m \u001b[0;32mfor\u001b[0m \u001b[0mi\u001b[0m \u001b[0;32min\u001b[0m \u001b[0mps\u001b[0m\u001b[0;34m.\u001b[0m\u001b[0mopen\u001b[0m\u001b[0;34m(\u001b[0m\u001b[0mdf_Shapefile\u001b[0m\u001b[0;34m)\u001b[0m\u001b[0;34m]\u001b[0m\u001b[0;34m\u001b[0m\u001b[0m\n\u001b[0m\u001b[1;32m      2\u001b[0m \u001b[0mfig\u001b[0m \u001b[0;34m=\u001b[0m \u001b[0mfigure\u001b[0m\u001b[0;34m(\u001b[0m\u001b[0mfigsize\u001b[0m\u001b[0;34m=\u001b[0m\u001b[0;34m(\u001b[0m\u001b[0;36m9\u001b[0m\u001b[0;34m,\u001b[0m\u001b[0;36m9\u001b[0m\u001b[0;34m)\u001b[0m\u001b[0;34m)\u001b[0m\u001b[0;34m\u001b[0m\u001b[0m\n\u001b[1;32m      3\u001b[0m \u001b[0mbase\u001b[0m \u001b[0;34m=\u001b[0m \u001b[0mmaps\u001b[0m\u001b[0;34m.\u001b[0m\u001b[0mmap_poly_shp\u001b[0m\u001b[0;34m(\u001b[0m\u001b[0mshp\u001b[0m\u001b[0;34m)\u001b[0m\u001b[0;34m\u001b[0m\u001b[0m\n\u001b[1;32m      4\u001b[0m \u001b[0mbase\u001b[0m\u001b[0;34m.\u001b[0m\u001b[0mset_facecolor\u001b[0m\u001b[0;34m(\u001b[0m\u001b[0;34m'none'\u001b[0m\u001b[0;34m)\u001b[0m\u001b[0;34m\u001b[0m\u001b[0m\n\u001b[1;32m      5\u001b[0m \u001b[0mbase\u001b[0m\u001b[0;34m.\u001b[0m\u001b[0mset_linewidth\u001b[0m\u001b[0;34m(\u001b[0m\u001b[0;36m0.75\u001b[0m\u001b[0;34m)\u001b[0m\u001b[0;34m\u001b[0m\u001b[0m\n",
      "\u001b[0;32m~/anaconda3/lib/python3.6/site-packages/pysal/core/FileIO.py\u001b[0m in \u001b[0;36m__new__\u001b[0;34m(cls, dataPath, mode, dataFormat)\u001b[0m\n\u001b[1;32m     62\u001b[0m             \u001b[0;32mtry\u001b[0m\u001b[0;34m:\u001b[0m\u001b[0;34m\u001b[0m\u001b[0m\n\u001b[1;32m     63\u001b[0m                 newCls = object.__new__(cls.__registry[cls.getType(dataPath,\n\u001b[0;32m---> 64\u001b[0;31m                                                                    mode, dataFormat)][mode][0])\n\u001b[0m\u001b[1;32m     65\u001b[0m             \u001b[0;32mexcept\u001b[0m \u001b[0mKeyError\u001b[0m\u001b[0;34m:\u001b[0m\u001b[0;34m\u001b[0m\u001b[0m\n\u001b[1;32m     66\u001b[0m                 \u001b[0;32mreturn\u001b[0m \u001b[0mopen\u001b[0m\u001b[0;34m(\u001b[0m\u001b[0mdataPath\u001b[0m\u001b[0;34m,\u001b[0m \u001b[0mmode\u001b[0m\u001b[0;34m)\u001b[0m\u001b[0;34m\u001b[0m\u001b[0m\n",
      "\u001b[0;32m~/anaconda3/lib/python3.6/site-packages/pysal/core/FileIO.py\u001b[0m in \u001b[0;36mgetType\u001b[0;34m(dataPath, mode, dataFormat)\u001b[0m\n\u001b[1;32m     75\u001b[0m             \u001b[0mext\u001b[0m \u001b[0;34m=\u001b[0m \u001b[0mdataFormat\u001b[0m\u001b[0;34m\u001b[0m\u001b[0m\n\u001b[1;32m     76\u001b[0m         \u001b[0;32melse\u001b[0m\u001b[0;34m:\u001b[0m\u001b[0;34m\u001b[0m\u001b[0m\n\u001b[0;32m---> 77\u001b[0;31m             \u001b[0mext\u001b[0m \u001b[0;34m=\u001b[0m \u001b[0mos\u001b[0m\u001b[0;34m.\u001b[0m\u001b[0mpath\u001b[0m\u001b[0;34m.\u001b[0m\u001b[0msplitext\u001b[0m\u001b[0;34m(\u001b[0m\u001b[0mdataPath\u001b[0m\u001b[0;34m)\u001b[0m\u001b[0;34m[\u001b[0m\u001b[0;36m1\u001b[0m\u001b[0;34m]\u001b[0m\u001b[0;34m\u001b[0m\u001b[0m\n\u001b[0m\u001b[1;32m     78\u001b[0m             \u001b[0mext\u001b[0m \u001b[0;34m=\u001b[0m \u001b[0mext\u001b[0m\u001b[0;34m.\u001b[0m\u001b[0mreplace\u001b[0m\u001b[0;34m(\u001b[0m\u001b[0;34m'.'\u001b[0m\u001b[0;34m,\u001b[0m \u001b[0;34m''\u001b[0m\u001b[0;34m)\u001b[0m\u001b[0;34m\u001b[0m\u001b[0m\n\u001b[1;32m     79\u001b[0m             \u001b[0mext\u001b[0m \u001b[0;34m=\u001b[0m \u001b[0mext\u001b[0m\u001b[0;34m.\u001b[0m\u001b[0mlower\u001b[0m\u001b[0;34m(\u001b[0m\u001b[0;34m)\u001b[0m\u001b[0;34m\u001b[0m\u001b[0m\n",
      "\u001b[0;32m~/anaconda3/lib/python3.6/posixpath.py\u001b[0m in \u001b[0;36msplitext\u001b[0;34m(p)\u001b[0m\n\u001b[1;32m    120\u001b[0m \u001b[0;34m\u001b[0m\u001b[0m\n\u001b[1;32m    121\u001b[0m \u001b[0;32mdef\u001b[0m \u001b[0msplitext\u001b[0m\u001b[0;34m(\u001b[0m\u001b[0mp\u001b[0m\u001b[0;34m)\u001b[0m\u001b[0;34m:\u001b[0m\u001b[0;34m\u001b[0m\u001b[0m\n\u001b[0;32m--> 122\u001b[0;31m     \u001b[0mp\u001b[0m \u001b[0;34m=\u001b[0m \u001b[0mos\u001b[0m\u001b[0;34m.\u001b[0m\u001b[0mfspath\u001b[0m\u001b[0;34m(\u001b[0m\u001b[0mp\u001b[0m\u001b[0;34m)\u001b[0m\u001b[0;34m\u001b[0m\u001b[0m\n\u001b[0m\u001b[1;32m    123\u001b[0m     \u001b[0;32mif\u001b[0m \u001b[0misinstance\u001b[0m\u001b[0;34m(\u001b[0m\u001b[0mp\u001b[0m\u001b[0;34m,\u001b[0m \u001b[0mbytes\u001b[0m\u001b[0;34m)\u001b[0m\u001b[0;34m:\u001b[0m\u001b[0;34m\u001b[0m\u001b[0m\n\u001b[1;32m    124\u001b[0m         \u001b[0msep\u001b[0m \u001b[0;34m=\u001b[0m \u001b[0;34mb'/'\u001b[0m\u001b[0;34m\u001b[0m\u001b[0m\n",
      "\u001b[0;31mTypeError\u001b[0m: expected str, bytes or os.PathLike object, not DataFrame"
     ]
    }
   ],
   "source": [
    "some = [bool(rdm.getrandbits(1)) for i in ps.open(df_Shapefile)]\n",
    "fig = figure(figsize=(9,9))\n",
    "base = maps.map_poly_shp(shp)\n",
    "base.set_facecolor('none')\n",
    "base.set_linewidth(0.75)\n",
    "base.set_edgecolor('0.8')\n",
    "some = maps.map_poly_shp(shp, which=some)\n",
    "some.set_alpha(0.5)\n",
    "some.set_linewidth(0.)\n",
    "cents = np.array([poly.centroid for poly in ps.open(shp_link)])\n",
    "pts = scatter(cents[:, 0], cents[:, 1])\n",
    "pts.set_color('red')\n",
    "ax = maps.setup_ax([base, some, pts], [shp.bbox, shp.bbox, shp.bbox])\n",
    "fig.add_axes(ax)\n",
    "show()"
   ]
  },
  {
   "cell_type": "code",
   "execution_count": 21,
   "metadata": {},
   "outputs": [],
   "source": [
    "row = df_Shapefile['geometry'][0]"
   ]
  },
  {
   "cell_type": "code",
   "execution_count": null,
   "metadata": {},
   "outputs": [],
   "source": []
  },
  {
   "cell_type": "code",
   "execution_count": 22,
   "metadata": {},
   "outputs": [],
   "source": [
    "Latitude = []\n",
    "Longitude = []"
   ]
  },
  {
   "cell_type": "code",
   "execution_count": 24,
   "metadata": {},
   "outputs": [
    {
     "ename": "NameError",
     "evalue": "name 'XYtoLatLong' is not defined",
     "output_type": "error",
     "traceback": [
      "\u001b[0;31m---------------------------------------------------------------------------\u001b[0m",
      "\u001b[0;31mNameError\u001b[0m                                 Traceback (most recent call last)",
      "\u001b[0;32m<ipython-input-24-f23f5081fd88>\u001b[0m in \u001b[0;36m<module>\u001b[0;34m()\u001b[0m\n\u001b[1;32m      1\u001b[0m \u001b[0mX\u001b[0m \u001b[0;34m=\u001b[0m \u001b[0mrow\u001b[0m\u001b[0;34m.\u001b[0m\u001b[0mcentroid\u001b[0m\u001b[0;34m[\u001b[0m\u001b[0;36m0\u001b[0m\u001b[0;34m]\u001b[0m\u001b[0;34m\u001b[0m\u001b[0m\n\u001b[1;32m      2\u001b[0m \u001b[0mY\u001b[0m \u001b[0;34m=\u001b[0m \u001b[0mrow\u001b[0m\u001b[0;34m.\u001b[0m\u001b[0mcentroid\u001b[0m\u001b[0;34m[\u001b[0m\u001b[0;36m1\u001b[0m\u001b[0;34m]\u001b[0m\u001b[0;34m\u001b[0m\u001b[0m\n\u001b[0;32m----> 3\u001b[0;31m \u001b[0mCoordinates\u001b[0m \u001b[0;34m=\u001b[0m \u001b[0mXYtoLatLong\u001b[0m\u001b[0;34m(\u001b[0m\u001b[0mX\u001b[0m\u001b[0;34m,\u001b[0m\u001b[0mY\u001b[0m\u001b[0;34m)\u001b[0m\u001b[0;34m\u001b[0m\u001b[0m\n\u001b[0m\u001b[1;32m      4\u001b[0m \u001b[0mLatitude\u001b[0m\u001b[0;34m.\u001b[0m\u001b[0mappend\u001b[0m\u001b[0;34m(\u001b[0m\u001b[0mCoordinates\u001b[0m\u001b[0;34m[\u001b[0m\u001b[0;36m0\u001b[0m\u001b[0;34m]\u001b[0m\u001b[0;34m)\u001b[0m\u001b[0;34m\u001b[0m\u001b[0m\n\u001b[1;32m      5\u001b[0m \u001b[0mLongitude\u001b[0m\u001b[0;34m.\u001b[0m\u001b[0mappend\u001b[0m\u001b[0;34m(\u001b[0m\u001b[0mCoordinates\u001b[0m\u001b[0;34m[\u001b[0m\u001b[0;36m1\u001b[0m\u001b[0;34m]\u001b[0m\u001b[0;34m)\u001b[0m\u001b[0;34m\u001b[0m\u001b[0m\n",
      "\u001b[0;31mNameError\u001b[0m: name 'XYtoLatLong' is not defined"
     ]
    }
   ],
   "source": [
    "X = row.centroid[0]\n",
    "Y = row.centroid[1]\n",
    "Coordinates = XYtoLatLong(X,Y)\n",
    "Latitude.append(Coordinates[0])\n",
    "Longitude.append(Coordinates[1])"
   ]
  },
  {
   "cell_type": "code",
   "execution_count": null,
   "metadata": {},
   "outputs": [],
   "source": []
  }
 ],
 "metadata": {
  "kernelspec": {
   "display_name": "Python 3",
   "language": "python",
   "name": "python3"
  },
  "language_info": {
   "codemirror_mode": {
    "name": "ipython",
    "version": 3
   },
   "file_extension": ".py",
   "mimetype": "text/x-python",
   "name": "python",
   "nbconvert_exporter": "python",
   "pygments_lexer": "ipython3",
   "version": "3.6.5"
  }
 },
 "nbformat": 4,
 "nbformat_minor": 2
}
